{
  "nbformat": 4,
  "nbformat_minor": 0,
  "metadata": {
    "colab": {
      "private_outputs": true,
      "provenance": [],
      "authorship_tag": "ABX9TyORgfUTavIL6a7PAkgpJ6hK",
      "include_colab_link": true
    },
    "kernelspec": {
      "name": "python3",
      "display_name": "Python 3"
    },
    "language_info": {
      "name": "python"
    }
  },
  "cells": [
    {
      "cell_type": "markdown",
      "metadata": {
        "id": "view-in-github",
        "colab_type": "text"
      },
      "source": [
        "<a href=\"https://colab.research.google.com/github/adrianyang2012/Normal_disturbution/blob/main/normal_distrubution.ipynb\" target=\"_parent\"><img src=\"https://colab.research.google.com/assets/colab-badge.svg\" alt=\"Open In Colab\"/></a>"
      ]
    },
    {
      "cell_type": "code",
      "execution_count": null,
      "metadata": {
        "id": "9LzAcHWqYsu1"
      },
      "outputs": [],
      "source": [
        "import matplotlib.pyplot as plt\n",
        "\n",
        "import random\n",
        "times = 100000\n",
        "num_dices = 1\n",
        "dice_sides = 3\n",
        "#special\n",
        "special_dices = 2\n",
        "special_dices_sides = 3\n",
        "\n",
        "frequencies = [0 for x in range(0,(num_dices*dice_sides) + (special_dices_sides*special_dices))]\n",
        "for i in range(0,times):\n",
        "  ans = sum([random.randint(1,dice_sides) for i in range(0,num_dices)] + [random.randint(1,special_dices_sides) for j in range(0,special_dices)])\n",
        "  \n",
        "  frequencies[ans-1] +=1\n",
        "plt.plot(frequencies)\n",
        "plt.show()"
      ]
    },
    {
      "cell_type": "code",
      "source": [
        "ans"
      ],
      "metadata": {
        "id": "ySw_rymjat_F"
      },
      "execution_count": null,
      "outputs": []
    }
  ]
}